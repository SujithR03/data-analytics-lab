{
 "cells": [
  {
   "cell_type": "code",
   "execution_count": 1,
   "id": "70040f09-3502-4b5b-8a23-632f37a0d6df",
   "metadata": {},
   "outputs": [
    {
     "name": "stdout",
     "output_type": "stream",
     "text": [
      "      Name  Age         City\n",
      "0    Alice   24     New York\n",
      "1      Bob   27  Los Angeles\n",
      "2  Charlie   22      Chicago\n"
     ]
    }
   ],
   "source": [
    "import pandas as pd  \n",
    "\n",
    "# Create a DataFrame from a dictionary  \n",
    "data = {\n",
    "    'Name': ['Alice', 'Bob', 'Charlie'],  \n",
    "    'Age': [24, 27, 22],  \n",
    "    'City': ['New York', 'Los Angeles', 'Chicago']\n",
    "}\n",
    "\n",
    "df = pd.DataFrame(data)  \n",
    "print(df)  "
   ]
  },
  {
   "cell_type": "code",
   "execution_count": 3,
   "id": "cf46fbc2-5254-470b-b5bb-1d74a9389e12",
   "metadata": {},
   "outputs": [
    {
     "name": "stdout",
     "output_type": "stream",
     "text": [
      "   Name  Age         City\n",
      "0  John   28     New York\n",
      "1  Jane   34      Chicago\n",
      "2   Jim   29  Los Angeles\n",
      "3  Jill   32        Miami\n"
     ]
    }
   ],
   "source": [
    "import pandas as pd  \n",
    "\n",
    "# Read a CSV file into a DataFrame  \n",
    "df = pd.read_csv('sample.csv')  # Ensure 'sample.csv' exists in the same directory  \n",
    "print(df.head())  "
   ]
  },
  {
   "cell_type": "code",
   "execution_count": 5,
   "id": "d6e566b7-6a69-4e16-9900-55d2895e5cd4",
   "metadata": {},
   "outputs": [
    {
     "name": "stdout",
     "output_type": "stream",
     "text": [
      "     A    B\n",
      "1  2.0  2.0\n",
      "3  4.0  4.0\n"
     ]
    }
   ],
   "source": [
    "import pandas as pd  \n",
    "\n",
    "# Create a DataFrame with missing values  \n",
    "df = pd.DataFrame({\n",
    "    'A': [1, 2, None, 4],  \n",
    "    'B': [None, 2, 3, 4]\n",
    "})\n",
    "\n",
    "# Remove rows with missing values  \n",
    "df_cleaned = df.dropna()  \n",
    "print(df_cleaned)  "
   ]
  },
  {
   "cell_type": "code",
   "execution_count": null,
   "id": "86088d32-62e1-40f5-aad6-2ebee934108e",
   "metadata": {},
   "outputs": [],
   "source": []
  }
 ],
 "metadata": {
  "kernelspec": {
   "display_name": "Python 3 (ipykernel)",
   "language": "python",
   "name": "python3"
  },
  "language_info": {
   "codemirror_mode": {
    "name": "ipython",
    "version": 3
   },
   "file_extension": ".py",
   "mimetype": "text/x-python",
   "name": "python",
   "nbconvert_exporter": "python",
   "pygments_lexer": "ipython3",
   "version": "3.12.4"
  }
 },
 "nbformat": 4,
 "nbformat_minor": 5
}
