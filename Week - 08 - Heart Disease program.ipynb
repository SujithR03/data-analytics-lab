{
 "cells": [
  {
   "cell_type": "code",
   "execution_count": 1,
   "id": "3f9c1e28-f1fb-447b-95e8-4d420d221295",
   "metadata": {},
   "outputs": [],
   "source": [
    "import pandas as pd\n",
    "import seaborn as sns\n",
    "import matplotlib.pyplot as plt\n",
    "from sklearn.model_selection import train_test_split\n",
    "from sklearn.linear_model import LogisticRegression\n",
    "from sklearn.metrics import accuracy_score, classification_report, confusion_matrix"
   ]
  },
  {
   "cell_type": "code",
   "execution_count": 3,
   "id": "ccf9b5ba-01a1-459a-9336-e184398003d7",
   "metadata": {},
   "outputs": [],
   "source": [
    "df = pd.read_csv(\"heart_diseases.csv\")"
   ]
  },
  {
   "cell_type": "code",
   "execution_count": 5,
   "id": "2eec5a64-4aa9-4e62-baf2-ce4427c907de",
   "metadata": {},
   "outputs": [
    {
     "name": "stdout",
     "output_type": "stream",
     "text": [
      "        age  blood_pressure  cholesterol  heart_rate   glucose       BMI  \\\n",
      "0  2.456902        0.975120    -0.677162   -1.810549 -0.012247  0.814707   \n",
      "1  1.631936       -1.594428     1.237816    2.511700 -1.713135 -1.103203   \n",
      "2 -2.336756       -1.260884     0.404982    1.230513 -0.474945 -0.557277   \n",
      "3  0.304699       -0.818221     0.595157   -0.338513  0.324166  0.151495   \n",
      "4  1.100919       -1.534114    -1.124642    1.215244  0.120296 -0.532098   \n",
      "\n",
      "    smoking   alcohol  exercise    stress  target  \n",
      "0 -0.147057 -0.897254  0.075805  2.162517       0  \n",
      "1 -0.599375  1.353872 -0.114540 -1.895498       1  \n",
      "2  0.917862 -0.653329  1.765454 -1.615872       1  \n",
      "3  2.092387 -0.130143  0.096996  0.370429       0  \n",
      "4  1.277677  0.514439  0.711615 -0.848883       1  \n"
     ]
    }
   ],
   "source": [
    "print(df.head())"
   ]
  },
  {
   "cell_type": "code",
   "execution_count": null,
   "id": "725f43b2-1bf1-4d2a-a5f8-58d14f0210f1",
   "metadata": {},
   "outputs": [],
   "source": []
  }
 ],
 "metadata": {
  "kernelspec": {
   "display_name": "Python 3 (ipykernel)",
   "language": "python",
   "name": "python3"
  },
  "language_info": {
   "codemirror_mode": {
    "name": "ipython",
    "version": 3
   },
   "file_extension": ".py",
   "mimetype": "text/x-python",
   "name": "python",
   "nbconvert_exporter": "python",
   "pygments_lexer": "ipython3",
   "version": "3.12.4"
  }
 },
 "nbformat": 4,
 "nbformat_minor": 5
}
