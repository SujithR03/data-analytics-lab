{
 "cells": [
  {
   "cell_type": "code",
   "execution_count": 1,
   "id": "214742d2",
   "metadata": {},
   "outputs": [
    {
     "name": "stdout",
     "output_type": "stream",
     "text": [
      "   annual_spending  frequency  campaign_success  churn\n",
      "0          2750.16         12                 0      0\n",
      "1          4982.45         18                 1      0\n",
      "2          1345.67          5                 0      1\n",
      "3          3897.23         10                 1      0\n",
      "4          2567.89          8                 0      1\n"
     ]
    }
   ],
   "source": [
    "import pandas as pd\n",
    "\n",
    "# Load the marketing dataset and display its structure\n",
    "df = pd.read_csv('marketing_data.csv')\n",
    "print(df.head())"
   ]
  },
  {
   "cell_type": "code",
   "execution_count": 2,
   "id": "0e1bef95",
   "metadata": {},
   "outputs": [
    {
     "name": "stdout",
     "output_type": "stream",
     "text": [
      "       annual_spending  frequency  campaign_success     churn\n",
      "count         5.000000   5.000000          5.000000  5.000000\n",
      "mean       3108.680000  10.600000          0.400000  0.400000\n",
      "std        1384.017683   4.878524          0.547723  0.547723\n",
      "min        1345.670000   5.000000          0.000000  0.000000\n",
      "25%        2567.890000   8.000000          0.000000  0.000000\n",
      "50%        2750.160000  10.000000          0.000000  0.000000\n",
      "75%        3897.230000  12.000000          1.000000  1.000000\n",
      "max        4982.450000  18.000000          1.000000  1.000000\n"
     ]
    }
   ],
   "source": [
    "# Generate summary statistics of the dataset\n",
    "print(df.describe())"
   ]
  },
  {
   "cell_type": "code",
   "execution_count": 3,
   "id": "bbfbf19f",
   "metadata": {},
   "outputs": [
    {
     "data": {
      "image/png": "[encoded data removed]",
      "text/plain": [
       "<Figure size 432x288 with 1 Axes>"
      ]
     },
     "metadata": {
      "needs_background": "light"
     },
     "output_type": "display_data"
    }
   ],
   "source": [
    "import seaborn as sns\n",
    "import matplotlib.pyplot as plt\n",
    "from sklearn.cluster import KMeans\n",
    "\n",
    "# Segment customers based on their spending behavior\n",
    "X = df[['annual_spending', 'frequency']]\n",
    "kmeans = KMeans(n_clusters=3)\n",
    "df['segment'] = kmeans.fit_predict(X)\n",
    "\n",
    "# Plotting the customer segmentation\n",
    "sns.scatterplot(x='annual_spending', y='frequency', hue='segment', data=df, palette='Set2')\n",
    "plt.title(\"Customer Segmentation\")\n",
    "plt.xlabel(\"Annual Spending\")\n",
    "plt.ylabel(\"Frequency\")\n",
    "plt.show()"
   ]
  },
  {
   "cell_type": "code",
   "execution_count": 5,
   "id": "a95f018f",
   "metadata": {},
   "outputs": [
    {
     "data": {
      "image/png": "[encoded data removed]",
      "text/plain": [
       "<Figure size 432x288 with 1 Axes>"
      ]
     },
     "metadata": {
      "needs_background": "light"
     },
     "output_type": "display_data"
    }
   ],
   "source": [
    "# Analyze the success rate of a marketing campaign\n",
    "campaign_success_rate = df['campaign_success'].value_counts(normalize=True) * 100\n",
    "\n",
    "# Plotting the success rate of the marketing campaign\n",
    "campaign_success_rate.plot(kind='bar', color='blue')\n",
    "plt.title(\"Marketing Campaign Success Rate\")\n",
    "plt.xlabel(\"Success\")\n",
    "plt.ylabel(\"Percentage\")\n",
    "plt.show()"
   ]
  },
  {
   "cell_type": "code",
   "execution_count": 6,
   "id": "da8ce8b8",
   "metadata": {},
   "outputs": [
    {
     "name": "stdout",
     "output_type": "stream",
     "text": [
      "Accuracy of Churn Prediction Model: 1.0\n"
     ]
    }
   ],
   "source": [
    "from sklearn.model_selection import train_test_split\n",
    "from sklearn.linear_model import LogisticRegression\n",
    "from sklearn.metrics import accuracy_score\n",
    "\n",
    "# Build a logistic regression model to predict customer churn\n",
    "X = df.drop('churn', axis=1)  # Assuming 'churn' is the target column\n",
    "y = df['churn']\n",
    "X_train, X_test, y_train, y_test = train_test_split(X, y, test_size=0.2, random_state=42)\n",
    "\n",
    "model = LogisticRegression(max_iter=1000)\n",
    "model.fit(X_train, y_train)\n",
    "\n",
    "# Predicting churn and calculating accuracy\n",
    "y_pred = model.predict(X_test)\n",
    "print(\"Accuracy of Churn Prediction Model:\", accuracy_score(y_test, y_pred))"
   ]
  },
  {
   "cell_type": "code",
   "execution_count": null,
   "id": "52cbc266",
   "metadata": {},
   "outputs": [],
   "source": []
  }
 ],
 "metadata": {
  "kernelspec": {
   "display_name": "Python 3 (ipykernel)",
   "language": "python",
   "name": "python3"
  },
  "language_info": {
   "codemirror_mode": {
    "name": "ipython",
    "version": 3
   },
   "file_extension": ".py",
   "mimetype": "text/x-python",
   "name": "python",
   "nbconvert_exporter": "python",
   "pygments_lexer": "ipython3",
   "version": "3.9.12"
  }
 },
 "nbformat": 4,
 "nbformat_minor": 5
}
