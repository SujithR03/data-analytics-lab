{
 "cells": [
  {
   "cell_type": "markdown",
   "id": "37a45159-38d5-40e5-9556-49c00bed75d4",
   "metadata": {},
   "source": [
    "## Arithmetic Operations"
   ]
  },
  {
   "cell_type": "code",
   "execution_count": 1,
   "id": "90b6285c-da0f-439c-b7c0-71013815898c",
   "metadata": {},
   "outputs": [
    {
     "name": "stdout",
     "output_type": "stream",
     "text": [
      "Array: [1 2 3 4 5]\n",
      "Add 5: [ 6  7  8  9 10]\n",
      "Multiply by 2: [ 2  4  6  8 10]\n"
     ]
    }
   ],
   "source": [
    "import numpy as np  \n",
    "\n",
    "# Create a NumPy array  \n",
    "arr = np.array([1, 2, 3, 4, 5])  \n",
    "print(\"Array:\", arr)  \n",
    "\n",
    "# Perform arithmetic operations  \n",
    "print(\"Add 5:\", arr + 5)  \n",
    "print(\"Multiply by 2:\", arr * 2)  "
   ]
  },
  {
   "cell_type": "markdown",
   "id": "7b6b7b51-5824-4d8c-9591-4bf590d45ab8",
   "metadata": {},
   "source": [
    "## Array Statistics"
   ]
  },
  {
   "cell_type": "code",
   "execution_count": 3,
   "id": "2375ab3c-0230-42ce-b2cb-86ed2624e3af",
   "metadata": {},
   "outputs": [
    {
     "name": "stdout",
     "output_type": "stream",
     "text": [
      "Mean: 5.5\n",
      "Median: 5.5\n",
      "Standard Deviation: 2.8722813232690143\n"
     ]
    }
   ],
   "source": [
    "import numpy as np  \n",
    "\n",
    "# Create a NumPy array  \n",
    "arr = np.array([1, 2, 3, 4, 5, 6, 7, 8, 9, 10])  \n",
    "\n",
    "# Calculate mean, median, and standard deviation  \n",
    "print(\"Mean:\", np.mean(arr))  \n",
    "print(\"Median:\", np.median(arr))  \n",
    "print(\"Standard Deviation:\", np.std(arr))  "
   ]
  },
  {
   "cell_type": "markdown",
   "id": "9b98c75c-5d18-4dee-94e2-dfab88845bb8",
   "metadata": {},
   "source": [
    "## Reshaping Arrays"
   ]
  },
  {
   "cell_type": "code",
   "execution_count": 5,
   "id": "080ff928-cbb7-4ec7-8d9d-b8ceb924a417",
   "metadata": {},
   "outputs": [
    {
     "name": "stdout",
     "output_type": "stream",
     "text": [
      "Reshaped Array:\n",
      " [[ 1  2  3  4]\n",
      " [ 5  6  7  8]\n",
      " [ 9 10 11 12]]\n"
     ]
    }
   ],
   "source": [
    "import numpy as np  \n",
    "\n",
    "# Create a NumPy array  \n",
    "arr = np.arange(1, 13)  \n",
    "\n",
    "# Reshape the array into 3x4 2D array  \n",
    "reshaped_arr = arr.reshape(3, 4)  \n",
    "print(\"Reshaped Array:\\n\", reshaped_arr)  "
   ]
  },
  {
   "cell_type": "markdown",
   "id": "c35f7800-f99b-400b-bb6e-d9d1181a5ea5",
   "metadata": {},
   "source": [
    "## Array Indexing"
   ]
  },
  {
   "cell_type": "code",
   "execution_count": 7,
   "id": "b58b6d17-5f3b-42e5-913f-4ee3608a72e2",
   "metadata": {},
   "outputs": [
    {
     "name": "stdout",
     "output_type": "stream",
     "text": [
      "First Element: 10\n",
      "Last Element: 50\n",
      "Slice (1 to 3): [20 30 40]\n"
     ]
    }
   ],
   "source": [
    "import numpy as np  \n",
    "\n",
    "# Create a NumPy array  \n",
    "arr = np.array([10, 20, 30, 40, 50])  \n",
    "\n",
    "# Demonstrate indexing and slicing  \n",
    "print(\"First Element:\", arr[0])  \n",
    "print(\"Last Element:\", arr[-1])  \n",
    "print(\"Slice (1 to 3):\", arr[1:4])  "
   ]
  },
  {
   "cell_type": "markdown",
   "id": "0d4e1d6c-087d-48bc-b56e-f7f620570db2",
   "metadata": {},
   "source": [
    "## Array concatenation"
   ]
  },
  {
   "cell_type": "code",
   "execution_count": 9,
   "id": "846d76cc-7948-42f4-95f7-97438b1ad8ff",
   "metadata": {},
   "outputs": [
    {
     "name": "stdout",
     "output_type": "stream",
     "text": [
      "Concatenated Array: [1 2 3 4 5 6]\n"
     ]
    }
   ],
   "source": [
    "import numpy as np  \n",
    "\n",
    "# Create two NumPy arrays  \n",
    "arr1 = np.array([1, 2, 3])  \n",
    "arr2 = np.array([4, 5, 6])  \n",
    "\n",
    "# Concatenate the arrays  \n",
    "concatenated = np.concatenate((arr1, arr2))  \n",
    "print(\"Concatenated Array:\", concatenated)  "
   ]
  },
  {
   "cell_type": "markdown",
   "id": "d1cbb639-9df1-4770-b6ff-1af12be88f6a",
   "metadata": {},
   "source": [
    "## Boolean Indexing"
   ]
  },
  {
   "cell_type": "code",
   "execution_count": 11,
   "id": "7c450c40-d79a-4fa3-ba32-fffdee9d87ce",
   "metadata": {},
   "outputs": [
    {
     "name": "stdout",
     "output_type": "stream",
     "text": [
      "Filtered Array (greater than 2): [3 4 5]\n"
     ]
    }
   ],
   "source": [
    "import numpy as np  \n",
    "\n",
    "# Create a NumPy array  \n",
    "arr = np.array([1, 2, 3, 4, 5])  \n",
    "\n",
    "# Use boolean condition to filter the array  \n",
    "filtered_arr = arr[arr > 2]  \n",
    "print(\"Filtered Array (greater than 2):\", filtered_arr) "
   ]
  },
  {
   "cell_type": "markdown",
   "id": "293daf83-8014-45d2-9534-dec7da6e0437",
   "metadata": {},
   "source": [
    "## Dot Product"
   ]
  },
  {
   "cell_type": "code",
   "execution_count": 13,
   "id": "0f77551d-41d2-4dac-a3cb-50845e1b5833",
   "metadata": {},
   "outputs": [
    {
     "name": "stdout",
     "output_type": "stream",
     "text": [
      "Dot Product: 32\n"
     ]
    }
   ],
   "source": [
    "import numpy as np  \n",
    "\n",
    "# Create two NumPy arrays  \n",
    "arr1 = np.array([1, 2, 3])  \n",
    "arr2 = np.array([4, 5, 6])  \n",
    "\n",
    "# Calculate the dot product  \n",
    "dot_product = np.dot(arr1, arr2)  \n",
    "print(\"Dot Product:\", dot_product)  "
   ]
  },
  {
   "cell_type": "markdown",
   "id": "0fa18c6e-734e-44fe-b698-11be8a15b723",
   "metadata": {},
   "source": [
    "## Linear Algebra"
   ]
  },
  {
   "cell_type": "code",
   "execution_count": 26,
   "id": "a6bcaf20-46bf-42f4-a79b-42e24ce90499",
   "metadata": {},
   "outputs": [
    {
     "name": "stdout",
     "output_type": "stream",
     "text": [
      "Determinant: -2.0000000000000004\n",
      "inverse:\n",
      " [[-2.   1. ]\n",
      " [ 1.5 -0.5]]\n"
     ]
    }
   ],
   "source": [
    "matrix=np.array([[1,2],[3,4]])\n",
    "determinant=np.linalg.det(matrix)\n",
    "inverse=np.linalg.inv(matrix)\n",
    "print(\"Determinant:\",determinant)\n",
    "print(\"inverse:\\n\",inverse)"
   ]
  },
  {
   "cell_type": "code",
   "execution_count": null,
   "id": "3a459dc9-0afa-4adb-9e99-b915f0aaaa99",
   "metadata": {},
   "outputs": [],
   "source": []
  }
 ],
 "metadata": {
  "kernelspec": {
   "display_name": "Python 3 (ipykernel)",
   "language": "python",
   "name": "python3"
  },
  "language_info": {
   "codemirror_mode": {
    "name": "ipython",
    "version": 3
   },
   "file_extension": ".py",
   "mimetype": "text/x-python",
   "name": "python",
   "nbconvert_exporter": "python",
   "pygments_lexer": "ipython3",
   "version": "3.12.4"
  }
 },
 "nbformat": 4,
 "nbformat_minor": 5
}
