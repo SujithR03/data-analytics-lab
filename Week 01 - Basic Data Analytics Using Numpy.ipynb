{
 "cells": [
  {
   "cell_type": "markdown",
   "id": "dab3c8ed-a2ac-4d10-bf48-849cd5cdfa1d",
   "metadata": {},
   "source": [
    "## Prog-1"
   ]
  },
  {
   "cell_type": "code",
   "execution_count": null,
   "id": "781796fe-ab03-4575-a6c5-b69f2568d15e",
   "metadata": {},
   "outputs": [],
   "source": [
    "  import numpy as np  \n",
    "\n",
    "# Create a NumPy array  \n",
    "arr = np.array([1, 2, 3, 4, 5])  \n",
    "print(\"Array:\", arr)  \n",
    "\n",
    "# Perform arithmetic operations  \n",
    "print(\"Add 5:\", arr + 5)  \n",
    "print(\"Multiply by 2:\", arr * 2)  \n"
   ]
  },
  {
   "cell_type": "markdown",
   "id": "faa9aed2-7363-45a3-86fd-fa2899261a84",
   "metadata": {},
   "source": [
    "## Prog-2"
   ]
  },
  {
   "cell_type": "code",
   "execution_count": null,
   "id": "70e84fd0-edaf-4b51-8297-df5ee8d1bc71",
   "metadata": {},
   "outputs": [],
   "source": [
    "import numpy as np  \n",
    "\n",
    "# Create a NumPy array  \n",
    "arr = np.array([1, 2, 3, 4, 5, 6, 7, 8, 9, 10])  \n",
    "\n",
    "# Calculate mean, median, and standard deviation  \n",
    "print(\"Mean:\", np.mean(arr))  \n",
    "print(\"Median:\", np.median(arr))  \n",
    "print(\"Standard Deviation:\", np.std(arr))  "
   ]
  },
  {
   "cell_type": "markdown",
   "id": "44409bc4-fa18-4dcd-b7ab-73ddee04ff97",
   "metadata": {},
   "source": [
    "## Prog-3"
   ]
  },
  {
   "cell_type": "code",
   "execution_count": null,
   "id": "8833b475-cf34-42c2-a951-d04ad7b4a90d",
   "metadata": {},
   "outputs": [],
   "source": [
    "import numpy as np  \n",
    "\n",
    "# Create a NumPy array  \n",
    "arr = np.arange(1, 13)  \n",
    "\n",
    "# Reshape the array into 3x4 2D array  \n",
    "reshaped_arr = arr.reshape(3, 4)  \n",
    "print(\"Reshaped Array:\\n\", reshaped_arr)  "
   ]
  },
  {
   "cell_type": "markdown",
   "id": "792a6dec-6161-4498-917f-8593630d95f3",
   "metadata": {},
   "source": [
    "## Prog-4"
   ]
  },
  {
   "cell_type": "code",
   "execution_count": null,
   "id": "dc0a6a9c-dd5a-4530-b895-e7bd3ec93b8e",
   "metadata": {},
   "outputs": [],
   "source": [
    "import numpy as np  \n",
    "\n",
    "# Create a NumPy array  \n",
    "arr = np.array([10, 20, 30, 40, 50])  \n",
    "\n",
    "# Demonstrate indexing and slicing  \n",
    "print(\"First Element:\", arr[0])  \n",
    "print(\"Last Element:\", arr[-1])  \n",
    "print(\"Slice (1 to 3):\", arr[1:4])  "
   ]
  },
  {
   "cell_type": "markdown",
   "id": "1c39fa49-b7b2-43df-be12-5c4fc0dfbbd5",
   "metadata": {},
   "source": [
    "## Prog-5"
   ]
  },
  {
   "cell_type": "code",
   "execution_count": null,
   "id": "496c08c9-0b84-41be-9927-59e3d5eee270",
   "metadata": {},
   "outputs": [],
   "source": [
    "import numpy as np  \n",
    "\n",
    "# Create two NumPy arrays  \n",
    "arr1 = np.array([1, 2, 3])  \n",
    "arr2 = np.array([4, 5, 6])  \n",
    "\n",
    "# Concatenate the arrays  \n",
    "concatenated = np.concatenate((arr1, arr2))  \n",
    "print(\"Concatenated Array:\", concatenated)  "
   ]
  },
  {
   "cell_type": "markdown",
   "id": "ba9dd4c7-4e88-4e46-aa4a-6d7bdd1de3e8",
   "metadata": {},
   "source": [
    "## Prog-6"
   ]
  },
  {
   "cell_type": "code",
   "execution_count": null,
   "id": "72fcf87a-5b3f-4b08-a6c7-7bc6c38cb844",
   "metadata": {},
   "outputs": [],
   "source": [
    "import numpy as np  \n",
    "\n",
    "# Create a NumPy array  \n",
    "arr = np.array([1, 2, 3, 4, 5])  \n",
    "\n",
    "# Use boolean condition to filter the array  \n",
    "filtered_arr = arr[arr > 2]  \n",
    "print(\"Filtered Array (greater than 2):\", filtered_arr)  "
   ]
  },
  {
   "cell_type": "markdown",
   "id": "0d31da61-4d49-41dd-9981-78cbcda7525c",
   "metadata": {},
   "source": [
    "## Prog-7"
   ]
  },
  {
   "cell_type": "code",
   "execution_count": null,
   "id": "0ac2ce70-4c1c-41c2-b2ac-d008e8925c8c",
   "metadata": {},
   "outputs": [],
   "source": [
    "import numpy as np  \n",
    "\n",
    "# Create two NumPy arrays  \n",
    "arr1 = np.array([1, 2, 3])  \n",
    "arr2 = np.array([4, 5, 6])  \n",
    "\n",
    "# Calculate the dot product  \n",
    "dot_product = np.dot(arr1, arr2)  \n",
    "print(\"Dot Product:\", dot_product)  \n"
   ]
  }
 ],
 "metadata": {
  "kernelspec": {
   "display_name": "Python 3 (ipykernel)",
   "language": "python",
   "name": "python3"
  },
  "language_info": {
   "codemirror_mode": {
    "name": "ipython",
    "version": 3
   },
   "file_extension": ".py",
   "mimetype": "text/x-python",
   "name": "python",
   "nbconvert_exporter": "python",
   "pygments_lexer": "ipython3",
   "version": "3.12.4"
  }
 },
 "nbformat": 4,
 "nbformat_minor": 5
}
