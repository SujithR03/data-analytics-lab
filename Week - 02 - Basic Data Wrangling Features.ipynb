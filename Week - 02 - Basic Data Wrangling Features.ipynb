{
 "cells": [
  {
   "cell_type": "markdown",
   "id": "3b1396d6",
   "metadata": {},
   "source": [
    "## Creating DF"
   ]
  },
  {
   "cell_type": "code",
   "execution_count": 1,
   "id": "d1b37a41",
   "metadata": {},
   "outputs": [
    {
     "name": "stdout",
     "output_type": "stream",
     "text": [
      "      Name  Age         City\n",
      "0    Alice   24     New York\n",
      "1      Bob   27  Los Angeles\n",
      "2  Charlie   22      Chicago\n"
     ]
    }
   ],
   "source": [
    "import pandas as pd\n",
    "data = {'Name': ['Alice', 'Bob', 'Charlie'],\n",
    "        'Age': [24, 27, 22],\n",
    "        'City': ['New York', 'Los Angeles', 'Chicago']}\n",
    "df = pd.DataFrame(data)\n",
    "print(df)"
   ]
  },
  {
   "cell_type": "markdown",
   "id": "891f24ba",
   "metadata": {},
   "source": [
    "## Reading a CSV file"
   ]
  },
  {
   "cell_type": "code",
   "execution_count": 2,
   "id": "2a0ce71d",
   "metadata": {},
   "outputs": [
    {
     "name": "stdout",
     "output_type": "stream",
     "text": [
      "   Name  Age         City\n",
      "0  John   28     New York\n",
      "1  Jane   34      Chicago\n",
      "2   Jim   29  Los Angeles\n",
      "3  Jill   32        Miami\n"
     ]
    }
   ],
   "source": [
    "df = pd.read_csv('sample.csv')  # Assuming 'sample.csv' exists\n",
    "print(df.head())"
   ]
  },
  {
   "cell_type": "markdown",
   "id": "a4b2b884",
   "metadata": {},
   "source": [
    "## Data Cleaning"
   ]
  },
  {
   "cell_type": "code",
   "execution_count": 3,
   "id": "c5dc5c63",
   "metadata": {},
   "outputs": [
    {
     "name": "stdout",
     "output_type": "stream",
     "text": [
      "     A    B\n",
      "1  2.0  2.0\n",
      "3  4.0  4.0\n"
     ]
    }
   ],
   "source": [
    "df = pd.DataFrame({'A': [1, 2, None, 4], 'B': [None, 2, 3, 4]})\n",
    "df_cleaned = df.dropna()\n",
    "print(df_cleaned)"
   ]
  },
  {
   "cell_type": "markdown",
   "id": "5310a60d",
   "metadata": {},
   "source": [
    "## Filtering Data"
   ]
  },
  {
   "cell_type": "code",
   "execution_count": 4,
   "id": "804f58e1",
   "metadata": {},
   "outputs": [
    {
     "name": "stdout",
     "output_type": "stream",
     "text": [
      "   A  B\n",
      "2  3  7\n",
      "3  4  8\n"
     ]
    }
   ],
   "source": [
    "df = pd.DataFrame({'A': [1, 2, 3, 4], 'B': [5, 6, 7, 8]})\n",
    "filtered_df = df[df['A'] > 2]\n",
    "print(filtered_df)"
   ]
  },
  {
   "cell_type": "markdown",
   "id": "115f488f",
   "metadata": {},
   "source": [
    "## Grouping Data"
   ]
  },
  {
   "cell_type": "code",
   "execution_count": 5,
   "id": "0c392b66",
   "metadata": {},
   "outputs": [
    {
     "name": "stdout",
     "output_type": "stream",
     "text": [
      "     B\n",
      "A     \n",
      "bar  6\n",
      "foo  4\n"
     ]
    }
   ],
   "source": [
    "df = pd.DataFrame({'A': ['foo', 'bar', 'foo', 'bar'],\n",
    "                   'B': [1, 2, 3, 4]})\n",
    "grouped = df.groupby('A').sum()\n",
    "print(grouped)"
   ]
  },
  {
   "cell_type": "markdown",
   "id": "59703b22",
   "metadata": {},
   "source": [
    "## Merging Dataframe"
   ]
  },
  {
   "cell_type": "code",
   "execution_count": 6,
   "id": "ec555d97",
   "metadata": {},
   "outputs": [
    {
     "name": "stdout",
     "output_type": "stream",
     "text": [
      "     A  B  C\n",
      "0  foo  1  3\n",
      "1  bar  2  4\n"
     ]
    }
   ],
   "source": [
    "df1 = pd.DataFrame({'A': ['foo', 'bar'], 'B': [1, 2]})\n",
    "df2 = pd.DataFrame({'A': ['foo', 'bar'], 'C': [3, 4]})\n",
    "merged_df = pd.merge(df1, df2, on='A')\n",
    "print(merged_df)"
   ]
  },
  {
   "cell_type": "markdown",
   "id": "7e33606b",
   "metadata": {},
   "source": [
    "## Pivot Tables"
   ]
  },
  {
   "cell_type": "code",
   "execution_count": 7,
   "id": "dd990aa3",
   "metadata": {},
   "outputs": [
    {
     "name": "stdout",
     "output_type": "stream",
     "text": [
      "B      1    2    3    4\n",
      "A                      \n",
      "bar  NaN  6.0  NaN  8.0\n",
      "foo  5.0  NaN  7.0  NaN\n"
     ]
    }
   ],
   "source": [
    "df = pd.DataFrame({'A': ['foo', 'bar', 'foo', 'bar'],\n",
    "                   'B': [1, 2, 3, 4],\n",
    "                   'C': [5, 6, 7, 8]})\n",
    "pivot_table = df.pivot_table(values='C', index='A', columns='B', aggfunc='sum')\n",
    "print(pivot_table)"
   ]
  },
  {
   "cell_type": "markdown",
   "id": "d1666f7d",
   "metadata": {},
   "source": [
    "## Dataframe Transform"
   ]
  },
  {
   "cell_type": "code",
   "execution_count": 8,
   "id": "30d388ec",
   "metadata": {},
   "outputs": [
    {
     "name": "stdout",
     "output_type": "stream",
     "text": [
      "    A   B\n",
      "0   1  25\n",
      "1   4  36\n",
      "2   9  49\n",
      "3  16  64\n"
     ]
    }
   ],
   "source": [
    "df = pd.DataFrame({'A': [1, 2, 3, 4], 'B': [5, 6, 7, 8]})\n",
    "transformed_df = df.transform(lambda x: x ** 2)\n",
    "print(transformed_df)"
   ]
  },
  {
   "cell_type": "markdown",
   "id": "c8e495ae",
   "metadata": {},
   "source": [
    "## Handling Duplicates"
   ]
  },
  {
   "cell_type": "code",
   "execution_count": 9,
   "id": "017fc5d1",
   "metadata": {},
   "outputs": [
    {
     "name": "stdout",
     "output_type": "stream",
     "text": [
      "   A  B\n",
      "0  1  4\n",
      "2  2  5\n",
      "3  3  6\n"
     ]
    }
   ],
   "source": [
    "df = pd.DataFrame({'A': [1, 1, 2, 3], 'B': [4, 4, 5, 6]})\n",
    "df_no_duplicates = df.drop_duplicates()\n",
    "print(df_no_duplicates)"
   ]
  },
  {
   "cell_type": "markdown",
   "id": "418194c4",
   "metadata": {},
   "source": [
    "## Save Dataframe as CSV File"
   ]
  },
  {
   "cell_type": "code",
   "execution_count": 10,
   "id": "fe432e31",
   "metadata": {},
   "outputs": [
    {
     "name": "stdout",
     "output_type": "stream",
     "text": [
      "DataFrame saved to output.csv\n"
     ]
    }
   ],
   "source": [
    "df = pd.DataFrame({'A': [1, 2, 3], 'B': [4, 5, 6]})\n",
    "df.to_csv('output.csv', index=False)\n",
    "print(\"DataFrame saved to output.csv\")"
   ]
  },
  {
   "cell_type": "code",
   "execution_count": null,
   "id": "9550cd22",
   "metadata": {},
   "outputs": [],
   "source": []
  }
 ],
 "metadata": {
  "kernelspec": {
   "display_name": "Python 3 (ipykernel)",
   "language": "python",
   "name": "python3"
  },
  "language_info": {
   "codemirror_mode": {
    "name": "ipython",
    "version": 3
   },
   "file_extension": ".py",
   "mimetype": "text/x-python",
   "name": "python",
   "nbconvert_exporter": "python",
   "pygments_lexer": "ipython3",
   "version": "3.9.12"
  }
 },
 "nbformat": 4,
 "nbformat_minor": 5
}
