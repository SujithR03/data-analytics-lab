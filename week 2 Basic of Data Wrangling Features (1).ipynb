{
 "cells": [
  {
   "cell_type": "markdown",
   "id": "a851e107",
   "metadata": {},
   "source": [
    "# program 1: Creating a DataFrame"
   ]
  },
  {
   "cell_type": "code",
   "execution_count": 1,
   "id": "447ce83e",
   "metadata": {},
   "outputs": [
    {
     "name": "stdout",
     "output_type": "stream",
     "text": [
      "      Name  Age         City\n",
      "0    Alice   24     New York\n",
      "1      Bob   27  Los Angeles\n",
      "2  Charlie   22      Chicago\n"
     ]
    }
   ],
   "source": [
    "import pandas as pd\n",
    "data={'Name':['Alice','Bob','Charlie'],'Age':[24,27,22],'City':['New York','Los Angeles','Chicago']}\n",
    "df=pd.DataFrame(data)\n",
    "print(df)"
   ]
  },
  {
   "cell_type": "markdown",
   "id": "ab9436c4",
   "metadata": {},
   "source": [
    "# program 2: Reading a CSV file"
   ]
  },
  {
   "cell_type": "code",
   "execution_count": 2,
   "id": "39c10e57",
   "metadata": {},
   "outputs": [
    {
     "name": "stdout",
     "output_type": "stream",
     "text": [
      "   age  weight  likePizza\n",
      "0   50      65          0\n",
      "1   20      55          1\n",
      "2   15      40          1\n",
      "3   70      65          0\n",
      "4   30      70          1\n"
     ]
    }
   ],
   "source": [
    "import pandas as pd\n",
    "df=pd.read_csv('pizza.csv')\n",
    "print(df.head())"
   ]
  },
  {
   "cell_type": "markdown",
   "id": "db14a3ed",
   "metadata": {},
   "source": [
    "# program3: Data Cleaning"
   ]
  },
  {
   "cell_type": "code",
   "execution_count": 3,
   "id": "fb315586",
   "metadata": {},
   "outputs": [
    {
     "name": "stdout",
     "output_type": "stream",
     "text": [
      "     A    B\n",
      "1  2.0  2.0\n",
      "3  4.0  4.0\n"
     ]
    }
   ],
   "source": [
    "import pandas as pd\n",
    "df=pd.DataFrame({'A':[1,2,None,4],'B':[None,2,3,4]})\n",
    "df_cleaned=df.dropna()\n",
    "print(df_cleaned)"
   ]
  },
  {
   "cell_type": "markdown",
   "id": "30fd81b9",
   "metadata": {},
   "source": [
    "# program4: Filtering Data"
   ]
  },
  {
   "cell_type": "code",
   "execution_count": 5,
   "id": "de99aaa2",
   "metadata": {},
   "outputs": [
    {
     "name": "stdout",
     "output_type": "stream",
     "text": [
      "   A  B\n",
      "2  3  7\n",
      "3  4  8\n"
     ]
    }
   ],
   "source": [
    "import pandas as pd\n",
    "df=pd.DataFrame({'A':[1,2,3,4],'B':[5,6,7,8]})\n",
    "Filtered_df=df[df['A']>2]\n",
    "print(Filtered_df)"
   ]
  },
  {
   "cell_type": "markdown",
   "id": "f46a3c3e",
   "metadata": {},
   "source": [
    "# program5: Grouping data"
   ]
  },
  {
   "cell_type": "code",
   "execution_count": 8,
   "id": "8ff58cc2",
   "metadata": {},
   "outputs": [
    {
     "name": "stdout",
     "output_type": "stream",
     "text": [
      "     B\n",
      "A     \n",
      "bar  6\n",
      "foo  4\n"
     ]
    }
   ],
   "source": [
    "import pandas as pd \n",
    "df=pd.DataFrame({'A':['foo','bar','foo','bar'], 'B':[1,2,3,4]})\n",
    "Grouped=df.groupby('A').sum()\n",
    "print(Grouped)"
   ]
  },
  {
   "cell_type": "markdown",
   "id": "5c4103ad",
   "metadata": {},
   "source": [
    "# program6: Merging DataFrames"
   ]
  },
  {
   "cell_type": "code",
   "execution_count": 9,
   "id": "d641a622",
   "metadata": {},
   "outputs": [
    {
     "name": "stdout",
     "output_type": "stream",
     "text": [
      "     A  B  C\n",
      "0  foo  1  3\n",
      "1  bar  2  4\n"
     ]
    }
   ],
   "source": [
    "import pandas as pd\n",
    "df1=pd.DataFrame({'A':['foo','bar'],'B':[1,2]})\n",
    "df2=pd.DataFrame({'A':['foo','bar'],'C':[3,4]})\n",
    "merged_df=pd.merge(df1,df2,on='A')\n",
    "print(merged_df)"
   ]
  },
  {
   "cell_type": "code",
   "execution_count": null,
   "id": "1e88d7d5",
   "metadata": {},
   "outputs": [],
   "source": []
  }
 ],
 "metadata": {
  "kernelspec": {
   "display_name": "Python 3 (ipykernel)",
   "language": "python",
   "name": "python3"
  },
  "language_info": {
   "codemirror_mode": {
    "name": "ipython",
    "version": 3
   },
   "file_extension": ".py",
   "mimetype": "text/x-python",
   "name": "python",
   "nbconvert_exporter": "python",
   "pygments_lexer": "ipython3",
   "version": "3.9.12"
  }
 },
 "nbformat": 4,
 "nbformat_minor": 5
}
