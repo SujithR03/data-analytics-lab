{
 "cells": [
  {
   "cell_type": "markdown",
   "id": "44a65c5e",
   "metadata": {},
   "source": [
    "##  Creating Time Series Data"
   ]
  },
  {
   "cell_type": "code",
   "execution_count": 1,
   "id": "9fbb63e0",
   "metadata": {},
   "outputs": [
    {
     "name": "stdout",
     "output_type": "stream",
     "text": [
      "2023-01-01    1\n",
      "2023-01-02    2\n",
      "2023-01-03    3\n",
      "2023-01-04    4\n",
      "2023-01-05    5\n",
      "Freq: D, dtype: int64\n"
     ]
    }
   ],
   "source": [
    "import pandas as pd\n",
    "\n",
    "dates = pd.date_range(start='2023-01-01', periods=5, freq='D')\n",
    "data = [1, 2, 3, 4, 5]\n",
    "ts = pd.Series(data, index=dates)\n",
    "print(ts)"
   ]
  },
  {
   "cell_type": "markdown",
   "id": "e83edeae",
   "metadata": {},
   "source": [
    "## Time Series Indexing"
   ]
  },
  {
   "cell_type": "code",
   "execution_count": 2,
   "id": "a1f55927",
   "metadata": {},
   "outputs": [
    {
     "name": "stdout",
     "output_type": "stream",
     "text": [
      "Data on 2023-01-03: 3\n"
     ]
    }
   ],
   "source": [
    "ts = pd.Series([1, 2, 3, 4, 5], index=pd.date_range('2023-01-01', periods=5))\n",
    "print(\"Data on 2023-01-03:\", ts['2023-01-03'])"
   ]
  },
  {
   "cell_type": "markdown",
   "id": "e946bafa",
   "metadata": {},
   "source": [
    "## Resampling Time Series Data"
   ]
  },
  {
   "cell_type": "code",
   "execution_count": 3,
   "id": "3a010bab",
   "metadata": {},
   "outputs": [
    {
     "name": "stdout",
     "output_type": "stream",
     "text": [
      "2023-01-01    3\n",
      "2023-01-03    7\n",
      "2023-01-05    5\n",
      "Freq: 2D, dtype: int64\n"
     ]
    }
   ],
   "source": [
    "ts = pd.Series([1, 2, 3, 4, 5], index=pd.date_range('2023-01-01', periods=5, freq='D'))\n",
    "resampled_ts = ts.resample('2D').sum()\n",
    "print(resampled_ts)"
   ]
  },
  {
   "cell_type": "markdown",
   "id": "87082226",
   "metadata": {},
   "source": [
    "## Shifting Time Series Data"
   ]
  },
  {
   "cell_type": "code",
   "execution_count": 4,
   "id": "8f04870c",
   "metadata": {},
   "outputs": [
    {
     "name": "stdout",
     "output_type": "stream",
     "text": [
      "2023-01-01    NaN\n",
      "2023-01-02    1.0\n",
      "2023-01-03    2.0\n",
      "2023-01-04    3.0\n",
      "2023-01-05    4.0\n",
      "Freq: D, dtype: float64\n"
     ]
    }
   ],
   "source": [
    "ts = pd.Series([1, 2, 3, 4, 5], index=pd.date_range('2023-01-01', periods=5))\n",
    "shifted_ts = ts.shift(1)\n",
    "print(shifted_ts)"
   ]
  },
  {
   "cell_type": "markdown",
   "id": "ca54f07f",
   "metadata": {},
   "source": [
    "## Rolling Window Calculation"
   ]
  },
  {
   "cell_type": "code",
   "execution_count": 5,
   "id": "8d7d5318",
   "metadata": {},
   "outputs": [
    {
     "name": "stdout",
     "output_type": "stream",
     "text": [
      "2023-01-01    NaN\n",
      "2023-01-02    NaN\n",
      "2023-01-03    2.0\n",
      "2023-01-04    3.0\n",
      "2023-01-05    4.0\n",
      "Freq: D, dtype: float64\n"
     ]
    }
   ],
   "source": [
    "ts = pd.Series([1, 2, 3, 4, 5], index=pd.date_range('2023-01-01', periods=5))\n",
    "rolling_mean = ts.rolling(window=3).mean()\n",
    "print(rolling_mean)"
   ]
  }
 ],
 "metadata": {
  "kernelspec": {
   "display_name": "Python 3 (ipykernel)",
   "language": "python",
   "name": "python3"
  },
  "language_info": {
   "codemirror_mode": {
    "name": "ipython",
    "version": 3
   },
   "file_extension": ".py",
   "mimetype": "text/x-python",
   "name": "python",
   "nbconvert_exporter": "python",
   "pygments_lexer": "ipython3",
   "version": "3.9.12"
  }
 },
 "nbformat": 4,
 "nbformat_minor": 5
}
