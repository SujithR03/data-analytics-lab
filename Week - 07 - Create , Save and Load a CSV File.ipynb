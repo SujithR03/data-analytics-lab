{
 "cells": [
  {
   "cell_type": "markdown",
   "id": "c3d03784",
   "metadata": {},
   "source": [
    "## Creating a CSV File"
   ]
  },
  {
   "cell_type": "code",
   "execution_count": 1,
   "id": "f127d695",
   "metadata": {},
   "outputs": [
    {
     "name": "stdout",
     "output_type": "stream",
     "text": [
      "CSV file 'people.csv' created successfully.\n"
     ]
    }
   ],
   "source": [
    "import pandas as pd\n",
    "\n",
    "# Create a DataFrame\n",
    "df = pd.DataFrame({\n",
    "    'Name': ['Alice', 'Bob', 'Charlie'],\n",
    "    'Age': [25, 30, 35],\n",
    "    'City': ['New York', 'Los Angeles', 'Chicago']\n",
    "})\n",
    "\n",
    "# Save the DataFrame as a CSV file\n",
    "df.to_csv('people.csv', index=False)\n",
    "\n",
    "# Print confirmation\n",
    "print(\"CSV file 'people.csv' created successfully.\")"
   ]
  },
  {
   "cell_type": "markdown",
   "id": "35d0f479",
   "metadata": {},
   "source": [
    "## Loading a CSV File"
   ]
  },
  {
   "cell_type": "code",
   "execution_count": 3,
   "id": "dde7eb1e",
   "metadata": {},
   "outputs": [
    {
     "name": "stdout",
     "output_type": "stream",
     "text": [
      "      Name  Age         City\n",
      "0    Alice   25     New York\n",
      "1      Bob   30  Los Angeles\n",
      "2  Charlie   35      Chicago\n"
     ]
    }
   ],
   "source": [
    "import pandas as pd\n",
    "\n",
    "# Load the CSV file into a DataFrame\n",
    "loaded_df = pd.read_csv('people.csv')\n",
    "\n",
    "# Print the loaded DataFrame\n",
    "print(loaded_df)"
   ]
  },
  {
   "cell_type": "markdown",
   "id": "c095fae1",
   "metadata": {},
   "source": [
    "## Appending to a CSV File"
   ]
  },
  {
   "cell_type": "code",
   "execution_count": 4,
   "id": "9db6ebc1",
   "metadata": {},
   "outputs": [
    {
     "name": "stdout",
     "output_type": "stream",
     "text": [
      "New data appended to 'people.csv'.\n"
     ]
    }
   ],
   "source": [
    "import pandas as pd\n",
    "\n",
    "# New data to append\n",
    "new_data = pd.DataFrame({\n",
    "    'Name': ['David', 'Eva'],\n",
    "    'Age': [40, 22],\n",
    "    'City': ['San Francisco', 'Seattle']\n",
    "})\n",
    "\n",
    "# Append new data to the CSV file\n",
    "new_data.to_csv('people.csv', mode='a', header=False, index=False)\n",
    "\n",
    "# Print confirmation\n",
    "print(\"New data appended to 'people.csv'.\")"
   ]
  },
  {
   "cell_type": "markdown",
   "id": "0afcd7ae",
   "metadata": {},
   "source": [
    "## Reading a CSV File with Different Delimiter"
   ]
  },
  {
   "cell_type": "code",
   "execution_count": 5,
   "id": "30554968",
   "metadata": {},
   "outputs": [
    {
     "name": "stdout",
     "output_type": "stream",
     "text": [
      "            Name,Age,City\n",
      "0       Alice,25,New York\n",
      "1      Bob,30,Los Angeles\n",
      "2      Charlie,35,Chicago\n",
      "3  David,40,San Francisco\n",
      "4          Eva,22,Seattle\n"
     ]
    }
   ],
   "source": [
    "import pandas as pd\n",
    "\n",
    "# Load the CSV file with a semicolon delimiter\n",
    "df = pd.read_csv('people.csv', delimiter=';')\n",
    "\n",
    "# Print the loaded DataFrame\n",
    "print(df)"
   ]
  },
  {
   "cell_type": "markdown",
   "id": "28a12bf9",
   "metadata": {},
   "source": [
    "## Loading CSV File with Custom Column Names"
   ]
  },
  {
   "cell_type": "code",
   "execution_count": 6,
   "id": "0e226673",
   "metadata": {},
   "outputs": [
    {
     "name": "stdout",
     "output_type": "stream",
     "text": [
      "  Full Name  Age       Location\n",
      "0     Alice   25       New York\n",
      "1       Bob   30    Los Angeles\n",
      "2   Charlie   35        Chicago\n",
      "3     David   40  San Francisco\n",
      "4       Eva   22        Seattle\n"
     ]
    }
   ],
   "source": [
    "import pandas as pd\n",
    "\n",
    "# Load the CSV file with custom column names\n",
    "df = pd.read_csv('people.csv', names=['Full Name', 'Age', 'Location'], header=0)\n",
    "\n",
    "# Print the DataFrame with custom column names\n",
    "print(df)"
   ]
  }
 ],
 "metadata": {
  "kernelspec": {
   "display_name": "Python 3 (ipykernel)",
   "language": "python",
   "name": "python3"
  },
  "language_info": {
   "codemirror_mode": {
    "name": "ipython",
    "version": 3
   },
   "file_extension": ".py",
   "mimetype": "text/x-python",
   "name": "python",
   "nbconvert_exporter": "python",
   "pygments_lexer": "ipython3",
   "version": "3.9.12"
  }
 },
 "nbformat": 4,
 "nbformat_minor": 5
}
